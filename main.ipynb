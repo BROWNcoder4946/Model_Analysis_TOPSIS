{
 "cells": [
  {
   "cell_type": "markdown",
   "metadata": {},
   "source": [
    "Name: Aditya Vashishta,\n",
    "Roll number: 102103546\n",
    "\n",
    "Applying TOPSIS to find best pre-trained \"Text Generation\" model.\n",
    "\n",
    "Following models will be compared:\n",
    "     'GPT-2' , 'BART' , 'T5-small'  , 'XLNet' , 'GPT-Neo 125M' \n",
    "\n",
    "Models will be evaluated on the basis of following features:\n",
    "\n",
    "    1. Semantic_Similarity: Measures the semantic similarity between the generated text and reference text.\n",
    "    [Aim - Maximization]\n",
    "    [Weight - 1]\n",
    "\n",
    "    2. ROUGE Score: ROUGE evaluates the quality of summaries by comparing n-grams, word overlap, and other measures between the generated text and reference summaries.\n",
    "    [Aim - Maximization]\n",
    "    [Weight - 1]\n",
    "\n",
    "    3. Diversity: To assess the diversity of generated text, metrics such as uniqueness, diversity of vocabulary, or the use of rare words can be considered. A good text generator should be able to produce diverse and novel outputs.\n",
    "    [Aim - Maximization]\n",
    "    [Weight - 1]\n"
   ]
  },
  {
   "cell_type": "code",
   "execution_count": null,
   "metadata": {},
   "outputs": [],
   "source": [
    "from transformers import pipeline\n",
    "import time\n",
    "import subprocess\n",
    "from nltk.translate.bleu_score import sentence_bleu\n",
    "from tempfile import NamedTemporaryFile\n",
    "from rouge_score import rouge_scorer\n",
    "import pandas as pd\n",
    "from sklearn.feature_extraction.text import TfidfVectorizer\n",
    "from sklearn.metrics.pairwise import cosine_similarity"
   ]
  },
  {
   "cell_type": "code",
   "execution_count": null,
   "metadata": {},
   "outputs": [],
   "source": [
    "# To calculte semantic similarity test parameter\n",
    "def semantic_coherence(prompt, generated):\n",
    "    # Tokenize and vectorize the text using TF-IDF\n",
    "    vectorizer = TfidfVectorizer()\n",
    "    vectors = vectorizer.fit_transform([prompt, generated])\n",
    "\n",
    "    # Calculate the cosine similarity between the prompt and generated text vectors\n",
    "    similarity_score = cosine_similarity(vectors[0], vectors[1])[0][0]\n",
    "\n",
    "    return similarity_score\n",
    "\n",
    "# To calculate ROUGE test parameter\n",
    "def calculate_ROUGE(prompt, generated, rouge_metric='rouge1'):\n",
    "    scorer = rouge_scorer.RougeScorer([rouge_metric], use_stemmer=True)\n",
    "    scores = scorer.score(prompt, generated)\n",
    "    f1_score = scores[rouge_metric].fmeasure\n",
    "    return f1_score\n",
    "\n",
    "# To calculate Diversity test parameter\n",
    "def calculate_vocabulary_diversity(text):\n",
    "    words = text.split()\n",
    "    unique_words = set(words)\n",
    "    diversity = len(unique_words) / len(words)\n",
    "    return diversity\n",
    "\n",
    "# To calculate the four criteria measures for a model w.r.t a particular prompt\n",
    "def calculate_criterias(prompt , generated):\n",
    "        row = []\n",
    "        row.append(semantic_coherence(prompt, generated))\n",
    "        row.append(calculate_ROUGE(prompt , generated))\n",
    "        row.append(calculate_vocabulary_diversity(generated))\n",
    "        return row\n",
    "\n",
    "# To calculate all the criterias for different models for single prompts\n",
    "def calculate_df(models , prompt):\n",
    "        # Creating data frame\n",
    "        columns = ['Semantic_Similarity', 'ROUGE', 'Diversity']\n",
    "        df = pd.DataFrame(columns=columns)\n",
    "\n",
    "        # Generating text , calculating parameters , appending to data frame\n",
    "        for model in models:\n",
    "            generated = generate_text(model , prompt , 50 , 1)\n",
    "            row = calculate_criterias(political_prompts[0] , generated)\n",
    "            new_row = {'Semantic_Similarity': row[0], 'ROUGE': row[1], 'Diversity': row[2]}\n",
    "            df = df.append(new_row, ignore_index=True)\n",
    "\n",
    "        # Renaming rows\n",
    "        df = df.rename(index={0: 'GPT-2', 1: 'BART', 2: 'T5-small', 3: 'XLNet', 4: 'GPT-Neo 125M' })\n",
    "        return df\n",
    "\n",
    "# To generate text\n",
    "def generate_text(model_name, prompt, max_length=50, num_return_sequences=1):\n",
    "        print(f\"Generated Text using {model_name}:\")\n",
    "        generator = pipeline(\"text-generation\", model=model_name)\n",
    "        result = generator(prompt, max_length=max_length, num_return_sequences=num_return_sequences)\n",
    "        generated_text = result[0]['generated_text']\n",
    "        return generated_text\n",
    "\n"
   ]
  },
  {
   "cell_type": "code",
   "execution_count": null,
   "metadata": {},
   "outputs": [],
   "source": [
    "# List of pretrained models for text generation\n",
    "models = [\"gpt2\" , \"facebook/bart-large-cnn\" , \"t5-small\" , \"xlnet-base-cased\" , \"EleutherAI/gpt-neo-125M\"]\n",
    "\n",
    "# List of prompts to test the models\n",
    "political_prompts = [\"Politics will be game changer for the world because\" , \"Worst President of USA was\" , \"As compared to monarchy , democracy is\" , \"2024 India elections are\" , \"Congress Party served for over 20 years , but still\"]\n",
    "sports_prompts = [\"Virat Kohli is the best batsman because\" , \"Football was the most\" , \"Ronnie Coleman is the most awarded\" , \"Max Verstappen is a very talented F1 driver which is evident from\" , \"One of the lesser known sports is\"]\n",
    "science_prompts = [\"An atom consists of\" , \"Rocket thrusts upwards by\" , \"Full form of VIBGYOR is\" , \"When apple fell on Newton's head , he discovered\" , \"Black holes were considered to be a myth until\"]"
   ]
  },
  {
   "cell_type": "code",
   "execution_count": null,
   "metadata": {},
   "outputs": [],
   "source": [
    "df = calculate_df(models , sports_prompts[4])\n",
    "df.to_csv('Assignment_3_TOPSIS_for_Text_Genration/o25.csv')"
   ]
  },
  {
   "cell_type": "code",
   "execution_count": null,
   "metadata": {},
   "outputs": [],
   "source": [
    "# Applying TOPSIS \n",
    "from Topsis import __main__ as TPS\n",
    "\n",
    "TPS.TOPSIS(\"Assignment_3_TOPSIS_for_Text_Genration/o25.csv\" , \"1,1,1\" , \"+,+,+\" , \"Assignment_3_TOPSIS_for_Text_Genration/f25.csv\")"
   ]
  }
 ],
 "metadata": {
  "kernelspec": {
   "display_name": "Python 3",
   "language": "python",
   "name": "python3"
  },
  "language_info": {
   "codemirror_mode": {
    "name": "ipython",
    "version": 3
   },
   "file_extension": ".py",
   "mimetype": "text/x-python",
   "name": "python",
   "nbconvert_exporter": "python",
   "pygments_lexer": "ipython3",
   "version": "3.11.4"
  }
 },
 "nbformat": 4,
 "nbformat_minor": 2
}
